{
 "cells": [
  {
   "cell_type": "code",
   "execution_count": 1,
   "metadata": {},
   "outputs": [
    {
     "name": "stdout",
     "output_type": "stream",
     "text": [
      "[{'datetime': '2024-10-21', 'answer_status': True}, {'datetime': '2024-10-21', 'answer_status': True}, {'datetime': '2024-10-21', 'answer_status': True}, {'datetime': '2024-10-21', 'answer_status': True}, {'datetime': '2024-10-21', 'answer_status': True}, {'datetime': '2024-10-21', 'answer_status': True}, {'datetime': '2024-10-21', 'answer_status': True}, {'datetime': '2024-10-21', 'answer_status': True}, {'datetime': '2024-10-22', 'answer_status': True}, {'datetime': '2024-10-23', 'answer_status': True}, {'datetime': '2024-10-23', 'answer_status': True}, {'datetime': '2024-10-24', 'answer_status': True}, {'datetime': '2024-10-25', 'answer_status': True}, {'datetime': '2024-10-26', 'answer_status': False}, {'datetime': '2024-10-26', 'answer_status': True}, {'datetime': '2024-10-27', 'answer_status': False}, {'datetime': '2024-10-27', 'answer_status': False}, {'datetime': '2024-10-27', 'answer_status': True}, {'datetime': '2024-10-27', 'answer_status': True}, {'datetime': '2024-10-28', 'answer_status': True}, {'datetime': '2024-10-29', 'answer_status': True}, {'datetime': '2024-10-30', 'answer_status': True}]\n"
     ]
    }
   ],
   "source": [
    "import json\n",
    "\n",
    "# Load the JSON file\n",
    "with open('performance_history.json', 'r') as f:\n",
    "    data = json.load(f)\n",
    "\n",
    "# Access the data\n",
    "print(data)"
   ]
  },
  {
   "cell_type": "code",
   "execution_count": 15,
   "metadata": {},
   "outputs": [
    {
     "name": "stdout",
     "output_type": "stream",
     "text": [
      "Пока что ты ответила на 22 вопросов, и твой процент правильных ответов составляет 86%.\n"
     ]
    }
   ],
   "source": [
    "import pandas as pd\n",
    "performance_frame = pd.DataFrame(data)\n",
    "num_questions_answered = len(performance_frame)\n",
    "num_correct_answers = len(performance_frame[performance_frame['answer_status']])\n",
    "correct_percentage = round((num_correct_answers / num_questions_answered) * 100)\n",
    "\n",
    "if correct_percentage >= 90:\n",
    "    message_text = f\"Поздравляю! 🍾🎉👍👍😎 Пока что ты ответила на {num_questions_answered} вопросов, и твой процент правильных ответов составляет {correct_percentage}%.\"\n",
    "else:\n",
    "    message_text = f\"Пока что ты ответила на {num_questions_answered} вопросов, и твой процент правильных ответов составляет {correct_percentage}%.\"\n",
    "\n",
    "print(message_text)\n"
   ]
  },
  {
   "cell_type": "code",
   "execution_count": 17,
   "metadata": {},
   "outputs": [
    {
     "data": {
      "text/plain": [
       "0     2024-10-21\n",
       "1     2024-10-21\n",
       "2     2024-10-21\n",
       "3     2024-10-21\n",
       "4     2024-10-21\n",
       "5     2024-10-21\n",
       "6     2024-10-21\n",
       "7     2024-10-21\n",
       "8     2024-10-22\n",
       "9     2024-10-23\n",
       "10    2024-10-23\n",
       "11    2024-10-24\n",
       "12    2024-10-25\n",
       "13    2024-10-26\n",
       "14    2024-10-26\n",
       "15    2024-10-27\n",
       "16    2024-10-27\n",
       "17    2024-10-27\n",
       "18    2024-10-27\n",
       "19    2024-10-28\n",
       "20    2024-10-29\n",
       "21    2024-10-30\n",
       "Name: datetime, dtype: object"
      ]
     },
     "execution_count": 17,
     "metadata": {},
     "output_type": "execute_result"
    }
   ],
   "source": [
    "performance_frame['datetime']"
   ]
  },
  {
   "cell_type": "code",
   "execution_count": 22,
   "metadata": {},
   "outputs": [
    {
     "data": {
      "text/plain": [
       "Index(['2024-10-24', '2024-10-25', '2024-10-26', '2024-10-27', '2024-10-28',\n",
       "       '2024-10-29', '2024-10-30'],\n",
       "      dtype='object')"
      ]
     },
     "execution_count": 22,
     "metadata": {},
     "output_type": "execute_result"
    }
   ],
   "source": [
    "from datetime import datetime, timedelta\n",
    "\n",
    "today = datetime.today()\n",
    "\n",
    "# Get the start and end dates of last week\n",
    "last_week_start = today - timedelta(days=7)\n",
    "\n",
    "# Generate a list of dates for last week\n",
    "last_week_dates = [last_week_start + timedelta(days=i) for i in range(7)]\n",
    "\n",
    "# Convert the list of dates to a pandas array\n",
    "last_week_dates_array = pd.to_datetime(last_week_dates)\n",
    "\n",
    "# Format the dates as yyyy-mm-dd\n",
    "last_week_dates_array = last_week_dates_array.strftime('%Y-%m-%d')\n",
    "\n",
    "last_week_dates_array"
   ]
  },
  {
   "cell_type": "code",
   "execution_count": 28,
   "metadata": {},
   "outputs": [
    {
     "data": {
      "text/plain": [
       "0"
      ]
     },
     "execution_count": 28,
     "metadata": {},
     "output_type": "execute_result"
    }
   ],
   "source": [
    "len(set(last_week_dates_array)-set(performance_frame['datetime']))"
   ]
  },
  {
   "cell_type": "code",
   "execution_count": null,
   "metadata": {},
   "outputs": [],
   "source": []
  }
 ],
 "metadata": {
  "kernelspec": {
   "display_name": "Python 3",
   "language": "python",
   "name": "python3"
  },
  "language_info": {
   "codemirror_mode": {
    "name": "ipython",
    "version": 3
   },
   "file_extension": ".py",
   "mimetype": "text/x-python",
   "name": "python",
   "nbconvert_exporter": "python",
   "pygments_lexer": "ipython3",
   "version": "3.11.9"
  }
 },
 "nbformat": 4,
 "nbformat_minor": 2
}
